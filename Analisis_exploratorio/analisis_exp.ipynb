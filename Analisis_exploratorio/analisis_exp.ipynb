{
 "cells": [
  {
   "cell_type": "markdown",
   "id": "9ca11c8e",
   "metadata": {},
   "source": [
    "# Proyecto Bootcamp IA "
   ]
  },
  {
   "cell_type": "markdown",
   "id": "86356a0e",
   "metadata": {},
   "source": [
    "## Análisis exploratorio de la Dataa"
   ]
  },
  {
   "cell_type": "code",
   "execution_count": null,
   "id": "c911e7f1",
   "metadata": {},
   "outputs": [],
   "source": [
    "import pandas as pd\n",
    "import numpy as np\n",
    "import matplotlib.pyplot as plt\n",
    "import seaborn as sns"
   ]
  },
  {
   "cell_type": "markdown",
   "id": "9aa559d5",
   "metadata": {},
   "source": [
    "1. Deporte en el que más participan los estudiantes "
   ]
  },
  {
   "cell_type": "code",
   "execution_count": null,
   "id": "e7fdbc31",
   "metadata": {},
   "outputs": [],
   "source": [
    "# Lectura del archivo\n",
    "df = pd.read_excel(\"data.xlsx\")\n",
    "\n",
    "display(df)"
   ]
  }
 ],
 "metadata": {
  "kernelspec": {
   "display_name": "prueba",
   "language": "python",
   "name": "python3"
  },
  "language_info": {
   "codemirror_mode": {
    "name": "ipython",
    "version": 3
   },
   "file_extension": ".py",
   "mimetype": "text/x-python",
   "name": "python",
   "nbconvert_exporter": "python",
   "pygments_lexer": "ipython3",
   "version": "3.13.5"
  }
 },
 "nbformat": 4,
 "nbformat_minor": 5
}
